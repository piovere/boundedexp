{
 "cells": [
  {
   "cell_type": "markdown",
   "id": "1534e413",
   "metadata": {},
   "source": [
    "# Speed Comparison"
   ]
  },
  {
   "cell_type": "code",
   "execution_count": 1,
   "id": "df013492",
   "metadata": {},
   "outputs": [],
   "source": [
    "from datetime import timedelta\n",
    "from math import log, exp\n",
    "\n",
    "from boundedexp import MeasurementIsotope"
   ]
  },
  {
   "cell_type": "code",
   "execution_count": 2,
   "id": "6e751299",
   "metadata": {},
   "outputs": [],
   "source": [
    "measurement_time: timedelta = timedelta(seconds=60000)\n",
    "half_life: timedelta = timedelta(hours=9.14)"
   ]
  },
  {
   "cell_type": "code",
   "execution_count": 3,
   "id": "4cba7bd0",
   "metadata": {},
   "outputs": [],
   "source": [
    "mean_half_life = half_life / log(2)"
   ]
  },
  {
   "cell_type": "code",
   "execution_count": 4,
   "id": "395d75a3",
   "metadata": {},
   "outputs": [],
   "source": [
    "num_samples = 1_000_000"
   ]
  },
  {
   "cell_type": "markdown",
   "id": "209c19ba",
   "metadata": {},
   "source": [
    "## Rust/maturin library"
   ]
  },
  {
   "cell_type": "code",
   "execution_count": 5,
   "id": "43766cb4",
   "metadata": {},
   "outputs": [],
   "source": [
    "mi = MeasurementIsotope(half_life=half_life, measurement_time=measurement_time)"
   ]
  },
  {
   "cell_type": "markdown",
   "id": "80a4d3fa",
   "metadata": {},
   "source": [
    "### Calling one at a time"
   ]
  },
  {
   "cell_type": "code",
   "execution_count": 6,
   "id": "0415bad3",
   "metadata": {},
   "outputs": [
    {
     "name": "stdout",
     "output_type": "stream",
     "text": [
      "254 ms ± 2.29 ms per loop (mean ± std. dev. of 7 runs, 1 loop each)\n"
     ]
    }
   ],
   "source": [
    "%%timeit\n",
    "[mi.get_time() for _ in range(num_samples)]"
   ]
  },
  {
   "cell_type": "markdown",
   "id": "5e220d38",
   "metadata": {},
   "source": [
    "### Using rust/rayon to parallelize the calls"
   ]
  },
  {
   "cell_type": "code",
   "execution_count": 7,
   "id": "124c2e1f",
   "metadata": {},
   "outputs": [
    {
     "name": "stdout",
     "output_type": "stream",
     "text": [
      "185 ms ± 4.79 ms per loop (mean ± std. dev. of 7 runs, 10 loops each)\n"
     ]
    }
   ],
   "source": [
    "%%timeit\n",
    "_ = mi.get_times(num_samples)"
   ]
  },
  {
   "cell_type": "markdown",
   "id": "4f5500ac",
   "metadata": {},
   "source": [
    "## Pure python"
   ]
  },
  {
   "cell_type": "code",
   "execution_count": 8,
   "id": "c79adf01",
   "metadata": {},
   "outputs": [],
   "source": [
    "from random import random"
   ]
  },
  {
   "cell_type": "code",
   "execution_count": 9,
   "id": "49b3940e",
   "metadata": {},
   "outputs": [],
   "source": [
    "def inv_scale(half_life, measurement_time) -> float:\n",
    "    mhl: timedelta = half_life / log(2)\n",
    "    ep: float = -(measurement_time / mhl)\n",
    "    return 1 - exp(ep)"
   ]
  },
  {
   "cell_type": "code",
   "execution_count": 10,
   "id": "20b9526f",
   "metadata": {},
   "outputs": [],
   "source": [
    "def inv_cdf(cdf: float, half_life: timedelta, measurement_time: timedelta) -> timedelta:\n",
    "    \"\"\"Given a cumulative distribution value, return the equivalent time\"\"\"\n",
    "    mhl: timedelta = half_life / log(2)\n",
    "    scale: float = inv_scale(half_life, measurement_time)\n",
    "    return -mhl * log(1 - cdf * scale)"
   ]
  },
  {
   "cell_type": "code",
   "execution_count": 11,
   "id": "21e874e6",
   "metadata": {},
   "outputs": [
    {
     "name": "stdout",
     "output_type": "stream",
     "text": [
      "1.11 s ± 3.45 ms per loop (mean ± std. dev. of 7 runs, 1 loop each)\n"
     ]
    }
   ],
   "source": [
    "%%timeit\n",
    "[inv_cdf(random(), half_life, measurement_time) for _ in range(num_samples)]"
   ]
  },
  {
   "cell_type": "markdown",
   "id": "cb48ad92",
   "metadata": {},
   "source": [
    "## Numpy"
   ]
  },
  {
   "cell_type": "code",
   "execution_count": 12,
   "id": "57b63e9e",
   "metadata": {},
   "outputs": [],
   "source": [
    "import numpy as np"
   ]
  },
  {
   "cell_type": "code",
   "execution_count": 13,
   "id": "a6a548d1",
   "metadata": {},
   "outputs": [],
   "source": [
    "hltus: int = int(half_life.total_seconds() * 1e6)\n",
    "np_half_life: np.timedelta64 = np.timedelta64(hltus, 'us')\n",
    "np_measurement_time: np.timedelta64 = np.timedelta64(int(measurement_time.total_seconds()), 's')"
   ]
  },
  {
   "cell_type": "code",
   "execution_count": 14,
   "id": "a64907d7",
   "metadata": {},
   "outputs": [],
   "source": [
    "rng: np.random.Generator = np.random.default_rng()"
   ]
  },
  {
   "cell_type": "code",
   "execution_count": 15,
   "id": "30efbdc0",
   "metadata": {},
   "outputs": [],
   "source": [
    "def np_inv_cdf(\n",
    "    num_samples: int, \n",
    "    half_life: np.timedelta64, \n",
    "    measurement_time: np.timedelta64,\n",
    "    rng: np.random.Generator\n",
    ") -> np.ndarray:\n",
    "    mhl: np.timedelta64 = half_life / np.log(2)\n",
    "    inv_scale: float = 1 - np.exp(-(measurement_time / mhl))\n",
    "    return -mhl * np.log(1 - rng.random(size=num_samples) * inv_scale)"
   ]
  },
  {
   "cell_type": "code",
   "execution_count": 16,
   "id": "0c9300e2",
   "metadata": {},
   "outputs": [
    {
     "name": "stdout",
     "output_type": "stream",
     "text": [
      "10.2 ms ± 477 μs per loop (mean ± std. dev. of 7 runs, 100 loops each)\n"
     ]
    }
   ],
   "source": [
    "%%timeit\n",
    "np_inv_cdf(num_samples, np_half_life, np_measurement_time, rng)"
   ]
  },
  {
   "cell_type": "markdown",
   "id": "164bc289",
   "metadata": {},
   "source": [
    "## Numba"
   ]
  },
  {
   "cell_type": "code",
   "execution_count": 17,
   "id": "9004dae7",
   "metadata": {},
   "outputs": [],
   "source": [
    "from numba import jit"
   ]
  },
  {
   "cell_type": "code",
   "execution_count": null,
   "id": "d0e1604f",
   "metadata": {},
   "outputs": [],
   "source": [
    "@jit\n",
    "def numba_inv_scale(half_life: timedelta, measurement_time: timedelta) -> float:\n",
    "    mhl: timedelta = half_life / log(2)\n",
    "    ep: float = -(measurement_time / mhl)\n",
    "    return 1 - exp(ep)"
   ]
  },
  {
   "cell_type": "code",
   "execution_count": 25,
   "id": "40c54ced",
   "metadata": {},
   "outputs": [],
   "source": [
    "@jit\n",
    "def numba_inv_cdf(cdf: float, half_life: timedelta, measurement_time: timedelta) -> timedelta:\n",
    "    \"\"\"Given a cumulative distribution value, return the equivalent time\"\"\"\n",
    "    mhl: timedelta = half_life / log(2)\n",
    "    scale: float = inv_scale(half_life, measurement_time)\n",
    "    return -mhl * log(1 - cdf * scale)"
   ]
  },
  {
   "cell_type": "code",
   "execution_count": 26,
   "id": "90f09a4f",
   "metadata": {},
   "outputs": [
    {
     "ename": "TypingError",
     "evalue": "Failed in nopython mode pipeline (step: nopython frontend)\nUntyped global name 'inv_scale': Cannot determine Numba type of <class 'function'>\n\nFile \"../../../../../var/folders/48/l5nlrfb93zj4jy_wh_bx8s8h0000gn/T/ipykernel_2462/3850974732.py\", line 5:\n<source missing, REPL/exec in use?>\n\nDuring: Pass nopython_type_inference \n\nThis error may have been caused by the following argument(s):\n- argument 1: Cannot determine Numba type of <class 'datetime.timedelta'>\n- argument 2: Cannot determine Numba type of <class 'datetime.timedelta'>\n",
     "output_type": "error",
     "traceback": [
      "\u001b[31m---------------------------------------------------------------------------\u001b[39m",
      "\u001b[31mTypingError\u001b[39m                               Traceback (most recent call last)",
      "\u001b[36mCell\u001b[39m\u001b[36m \u001b[39m\u001b[32mIn[26]\u001b[39m\u001b[32m, line 1\u001b[39m\n\u001b[32m----> \u001b[39m\u001b[32m1\u001b[39m \u001b[43mnumba_inv_cdf\u001b[49m\u001b[43m(\u001b[49m\u001b[43mrandom\u001b[49m\u001b[43m(\u001b[49m\u001b[43m)\u001b[49m\u001b[43m,\u001b[49m\u001b[43m \u001b[49m\u001b[43mhalf_life\u001b[49m\u001b[43m,\u001b[49m\u001b[43m \u001b[49m\u001b[43mmeasurement_time\u001b[49m\u001b[43m)\u001b[49m\n",
      "\u001b[36mFile \u001b[39m\u001b[32m~/Code/boundedexp/.venv/lib/python3.13/site-packages/numba/core/dispatcher.py:424\u001b[39m, in \u001b[36m_DispatcherBase._compile_for_args\u001b[39m\u001b[34m(self, *args, **kws)\u001b[39m\n\u001b[32m    420\u001b[39m         msg = (\u001b[33mf\u001b[39m\u001b[33m\"\u001b[39m\u001b[38;5;132;01m{\u001b[39;00m\u001b[38;5;28mstr\u001b[39m(e).rstrip()\u001b[38;5;132;01m}\u001b[39;00m\u001b[33m \u001b[39m\u001b[38;5;130;01m\\n\u001b[39;00m\u001b[38;5;130;01m\\n\u001b[39;00m\u001b[33mThis error may have been caused \u001b[39m\u001b[33m\"\u001b[39m\n\u001b[32m    421\u001b[39m                \u001b[33mf\u001b[39m\u001b[33m\"\u001b[39m\u001b[33mby the following argument(s):\u001b[39m\u001b[38;5;130;01m\\n\u001b[39;00m\u001b[38;5;132;01m{\u001b[39;00margs_str\u001b[38;5;132;01m}\u001b[39;00m\u001b[38;5;130;01m\\n\u001b[39;00m\u001b[33m\"\u001b[39m)\n\u001b[32m    422\u001b[39m         e.patch_message(msg)\n\u001b[32m--> \u001b[39m\u001b[32m424\u001b[39m     \u001b[43merror_rewrite\u001b[49m\u001b[43m(\u001b[49m\u001b[43me\u001b[49m\u001b[43m,\u001b[49m\u001b[43m \u001b[49m\u001b[33;43m'\u001b[39;49m\u001b[33;43mtyping\u001b[39;49m\u001b[33;43m'\u001b[39;49m\u001b[43m)\u001b[49m\n\u001b[32m    425\u001b[39m \u001b[38;5;28;01mexcept\u001b[39;00m errors.UnsupportedError \u001b[38;5;28;01mas\u001b[39;00m e:\n\u001b[32m    426\u001b[39m     \u001b[38;5;66;03m# Something unsupported is present in the user code, add help info\u001b[39;00m\n\u001b[32m    427\u001b[39m     error_rewrite(e, \u001b[33m'\u001b[39m\u001b[33munsupported_error\u001b[39m\u001b[33m'\u001b[39m)\n",
      "\u001b[36mFile \u001b[39m\u001b[32m~/Code/boundedexp/.venv/lib/python3.13/site-packages/numba/core/dispatcher.py:365\u001b[39m, in \u001b[36m_DispatcherBase._compile_for_args.<locals>.error_rewrite\u001b[39m\u001b[34m(e, issue_type)\u001b[39m\n\u001b[32m    363\u001b[39m     \u001b[38;5;28;01mraise\u001b[39;00m e\n\u001b[32m    364\u001b[39m \u001b[38;5;28;01melse\u001b[39;00m:\n\u001b[32m--> \u001b[39m\u001b[32m365\u001b[39m     \u001b[38;5;28;01mraise\u001b[39;00m e.with_traceback(\u001b[38;5;28;01mNone\u001b[39;00m)\n",
      "\u001b[31mTypingError\u001b[39m: Failed in nopython mode pipeline (step: nopython frontend)\nUntyped global name 'inv_scale': Cannot determine Numba type of <class 'function'>\n\nFile \"../../../../../var/folders/48/l5nlrfb93zj4jy_wh_bx8s8h0000gn/T/ipykernel_2462/3850974732.py\", line 5:\n<source missing, REPL/exec in use?>\n\nDuring: Pass nopython_type_inference \n\nThis error may have been caused by the following argument(s):\n- argument 1: Cannot determine Numba type of <class 'datetime.timedelta'>\n- argument 2: Cannot determine Numba type of <class 'datetime.timedelta'>\n"
     ]
    }
   ],
   "source": [
    "numba_inv_cdf(random(), half_life, measurement_time)"
   ]
  },
  {
   "cell_type": "code",
   "execution_count": null,
   "id": "94504d0a",
   "metadata": {},
   "outputs": [],
   "source": []
  }
 ],
 "metadata": {
  "kernelspec": {
   "display_name": "boundedexp",
   "language": "python",
   "name": "python3"
  },
  "language_info": {
   "codemirror_mode": {
    "name": "ipython",
    "version": 3
   },
   "file_extension": ".py",
   "mimetype": "text/x-python",
   "name": "python",
   "nbconvert_exporter": "python",
   "pygments_lexer": "ipython3",
   "version": "3.13.7"
  }
 },
 "nbformat": 4,
 "nbformat_minor": 5
}
